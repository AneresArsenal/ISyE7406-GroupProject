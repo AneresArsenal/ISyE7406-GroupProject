{
 "cells": [
  {
   "cell_type": "code",
   "execution_count": 1,
   "id": "173ba70a-8480-4274-977a-d9ef1ed20868",
   "metadata": {},
   "outputs": [],
   "source": [
    "#install packages\n",
    "import numpy as np\n",
    "import pandas as pd"
   ]
  },
  {
   "cell_type": "code",
   "execution_count": 2,
   "id": "9e8c685f-492c-470b-b43a-9bc25a1c16b4",
   "metadata": {},
   "outputs": [
    {
     "name": "stdout",
     "output_type": "stream",
     "text": [
      "10896\n"
     ]
    }
   ],
   "source": [
    "### First Touch, Last Touch, and Linear Attribution\n",
    "\n",
    "#load dataset\n",
    "df = pd.read_csv('DMSL - event level dataset.csv')\n",
    "\n",
    "#sort dataset by User_ID, then Sequence\n",
    "df = df.rename(columns={\"Date\": \"date\", \"touchpoint\": \"event\"})\n",
    "df = df.sort_values([\"user_id\", \"date\"], ascending = (True, True)).reset_index(drop=True)\n",
    "\n",
    "#replace user ID numbers with their relative ranking, starting at 0\n",
    "df['user_id'] = df['user_id'].rank(method='dense').astype('int') - 1\n",
    "\n",
    "#replace \n",
    "df[\"event\"].replace({\"Conversion\": \"conv\"}, inplace=True)\n",
    "df_raw = df\n",
    "\n",
    "#define lists of unique Events\n",
    "Unique_Events = list(df['event'].unique())\n",
    "Unique_Events.remove('conv')\n",
    "\n",
    "#define lists of unique User IDs\n",
    "UserID_List = list(df['user_id'].unique())\n",
    "\n",
    "print(len(df))"
   ]
  },
  {
   "cell_type": "code",
   "execution_count": 3,
   "id": "9c8aa6b8-e886-452e-bb89-f04804e843cd",
   "metadata": {},
   "outputs": [
    {
     "data": {
      "text/plain": [
       "1040"
      ]
     },
     "execution_count": 3,
     "metadata": {},
     "output_type": "execute_result"
    }
   ],
   "source": [
    "#number of conversions for QA\n",
    "len(df[df.event == 'conv'])"
   ]
  },
  {
   "cell_type": "code",
   "execution_count": 4,
   "id": "1385dbd1-7c99-4db1-9182-6d28f5fefa08",
   "metadata": {},
   "outputs": [],
   "source": [
    "#determine journeys - and reset the journey after a user converts\n",
    "curr_ID = UserID_List[0]\n",
    "journey_count = 0\n",
    "journeys = []\n",
    "\n",
    "for index, row in df.iterrows():\n",
    "    if row['user_id'] == curr_ID:\n",
    "        journeys.append(journey_count)\n",
    "        if row['event'] == 'conv':\n",
    "            journey_count += 1\n",
    "    if row['user_id'] > curr_ID:\n",
    "        curr_ID += 1\n",
    "        journey_count = 0\n",
    "        journeys.append(journey_count)\n",
    "        if row['event'] == 'conv':\n",
    "            journey_count += 1\n",
    "df['journey'] = journeys\n",
    "\n",
    "#combine User_IDs with Journeys - we will use this as our iterator\n",
    "df[\"user_journey\"] = df[\"user_id\"].astype(str) + '|' + df[\"journey\"].astype(str)"
   ]
  },
  {
   "cell_type": "code",
   "execution_count": 5,
   "id": "339cd655-4ecc-4dfe-8101-0806db785db7",
   "metadata": {},
   "outputs": [],
   "source": [
    "### separate journeys - one touch and multi touch\n",
    "### one touch journeys should give the full credit to their only touchpoint\n",
    "### multi touch journeys should be awarded credit based on linear, markov, shapley models\n",
    "df1 = df.groupby(['user_journey'], as_index=False)['event'].last().rename(columns={\"event\": \"Last Event\"})\n",
    "df2 = df.groupby(['user_journey'], as_index=False).count().rename(columns={\"date\": \"Length\"})\n",
    "df2 = df2[['user_journey', 'Length']]\n",
    "\n",
    "df3 = pd.merge(df1, df2, on=\"user_journey\")\n",
    "df_1touch = df3[(df3['Length'] == 2) & (df3['Last Event'] == 'conv')]\n",
    "df_0touch = df3[(df3['Length'] == 1) & (df3['Last Event'] == 'conv')]\n",
    "\n",
    "df_multitouch = df3[(df3['Length'] >= 3) | ((df3['Length'] >= 2) & (df3['Last Event'] != 'conv'))]\n",
    "\n",
    "df_multitouch = df_multitouch.merge(df, how='inner', on='user_journey')\n",
    "df_1touch = df_1touch.merge(df, how='inner', on='user_journey')\n",
    "\n",
    "User_Journey_list = list(df_multitouch['user_journey'].unique())\n",
    "User_Journey_list_1touch = list(df_1touch['user_journey'].unique())"
   ]
  },
  {
   "cell_type": "code",
   "execution_count": 6,
   "id": "9313ab3f-24b6-419e-a5b1-0a4d9b87e254",
   "metadata": {},
   "outputs": [],
   "source": [
    "#create a list of lists; the primary list is broken out by journey, the secondary lists are the events each user's path\n",
    "User_Events = []\n",
    "\n",
    "for i in User_Journey_list:\n",
    "    y = ['start']\n",
    "    User_sequence = df_multitouch[(df_multitouch.user_journey == i)]\n",
    "    \n",
    "    for j in User_sequence['event']:\n",
    "        y.append(j)\n",
    "    User_Events.append(y)\n",
    "    \n",
    "#last touch, first touch, and linear attribution\n",
    "\n",
    "#define counters\n",
    "last_touch = dict()\n",
    "for i in Unique_Events:\n",
    "    last_touch[i] = last_touch.get(i, 0)\n",
    "    \n",
    "first_touch = dict()\n",
    "for i in Unique_Events:\n",
    "    first_touch[i] = first_touch.get(i, 0)\n",
    "    \n",
    "linear = dict()\n",
    "for i in Unique_Events:\n",
    "    linear[i] = linear.get(i, 0)\n",
    "\n",
    "conv_count_QA = 0\n",
    "\n",
    "#loop through journeys\n",
    "for i in User_Events:\n",
    "    if i[-1] == 'conv' and len(i) > 2:\n",
    "        last_touch[i[-2]] += 1\n",
    "        first_touch[i[1]] += 1\n",
    "        \n",
    "        #linear\n",
    "        journey_len = len(i[1:-1])\n",
    "        for j in i[1:-1]:\n",
    "            linear[j] += (1 / (journey_len + 0.00000000000000000000000000001))"
   ]
  },
  {
   "cell_type": "code",
   "execution_count": 7,
   "id": "79e30d0a-8daa-4e89-b9be-f1ba7f01b472",
   "metadata": {},
   "outputs": [],
   "source": [
    "### repeat above step but for single touch conversions\n",
    "\n",
    "User_Events = []\n",
    "\n",
    "for i in User_Journey_list_1touch:\n",
    "    y = ['start']\n",
    "    User_sequence = df_1touch[(df_1touch.user_journey == i)]\n",
    "    \n",
    "    for j in User_sequence['event']:\n",
    "        y.append(j)\n",
    "    User_Events.append(y)\n",
    "    \n",
    "### account for single touch conversions\n",
    "\n",
    "#define counters\n",
    "one_touch = dict()\n",
    "for i in Unique_Events:\n",
    "    one_touch[i] = one_touch.get(i, 0)\n",
    "    \n",
    "#loop through journeys\n",
    "for i in User_Events:\n",
    "    if (i[-1] == 'conv') & (len(i) > 2):\n",
    "        one_touch[i[1]] += 1\n"
   ]
  },
  {
   "cell_type": "code",
   "execution_count": 8,
   "id": "8bdfcc17-105a-4a02-a4ab-47888b9e8f99",
   "metadata": {},
   "outputs": [
    {
     "data": {
      "text/plain": [
       "True"
      ]
     },
     "execution_count": 8,
     "metadata": {},
     "output_type": "execute_result"
    }
   ],
   "source": [
    "len(df[df.event == 'conv']) == sum(one_touch.values()) + round(sum(linear.values())) + len(df_0touch)"
   ]
  },
  {
   "cell_type": "code",
   "execution_count": 9,
   "id": "24d7cf04-cc2f-44bd-a532-864cd5cdf3ba",
   "metadata": {},
   "outputs": [
    {
     "name": "stdout",
     "output_type": "stream",
     "text": [
      "736\n",
      "736\n",
      "736\n"
     ]
    }
   ],
   "source": [
    "from collections import Counter\n",
    "\n",
    "linear = Counter(linear) + Counter(one_touch)\n",
    "first_touch = Counter(first_touch) + Counter(one_touch)\n",
    "last_touch = Counter(last_touch) + Counter(one_touch)\n",
    "\n",
    "print(round(sum(linear.values())))\n",
    "print(round(sum(first_touch.values())))\n",
    "print(round(sum(last_touch.values())))"
   ]
  },
  {
   "cell_type": "code",
   "execution_count": 10,
   "id": "2a9ddfc9-9f2c-4447-bdf8-753253e955ae",
   "metadata": {},
   "outputs": [
    {
     "data": {
      "text/plain": [
       "Counter({'Facebook': 127.48333333333338,\n",
       "         'Instagram': 122.45000000000005,\n",
       "         'House Ads': 340.74999999999983,\n",
       "         'Push': 57.89999999999999,\n",
       "         'Email': 87.41666666666667})"
      ]
     },
     "execution_count": 10,
     "metadata": {},
     "output_type": "execute_result"
    }
   ],
   "source": [
    "linear"
   ]
  },
  {
   "cell_type": "code",
   "execution_count": 11,
   "id": "2c0647cf-a093-4947-ad60-9909cfa90665",
   "metadata": {},
   "outputs": [
    {
     "data": {
      "text/plain": [
       "Counter({'Facebook': 117,\n",
       "         'Instagram': 99,\n",
       "         'House Ads': 391,\n",
       "         'Push': 50,\n",
       "         'Email': 79})"
      ]
     },
     "execution_count": 11,
     "metadata": {},
     "output_type": "execute_result"
    }
   ],
   "source": [
    "first_touch"
   ]
  },
  {
   "cell_type": "code",
   "execution_count": 12,
   "id": "dcc94ce4-55c3-411c-ac4d-c462a3612a81",
   "metadata": {},
   "outputs": [
    {
     "data": {
      "text/plain": [
       "Counter({'Facebook': 138,\n",
       "         'Instagram': 149,\n",
       "         'House Ads': 288,\n",
       "         'Push': 65,\n",
       "         'Email': 96})"
      ]
     },
     "execution_count": 12,
     "metadata": {},
     "output_type": "execute_result"
    }
   ],
   "source": [
    "last_touch"
   ]
  },
  {
   "cell_type": "code",
   "execution_count": null,
   "id": "ddcecf1c-8739-4f9a-9133-30d48c01b63e",
   "metadata": {},
   "outputs": [],
   "source": []
  },
  {
   "cell_type": "code",
   "execution_count": 13,
   "id": "59f610b3-3608-49d9-8c64-66762d546775",
   "metadata": {},
   "outputs": [],
   "source": [
    "### Markov Chain model\n",
    "\n",
    "### separate journeys - one touch and multi touch\n",
    "### one touch journeys should give the full credit to their only touchpoint\n",
    "### multi touch journeys should be awarded credit based on linear, markov, shapley models\n",
    "df1 = df.groupby(['user_journey'], as_index=False)['event'].last().rename(columns={\"event\": \"Last Event\"})\n",
    "df2 = df.groupby(['user_journey'], as_index=False).count().rename(columns={\"date\": \"Length\"})\n",
    "df2 = df2[['user_journey', 'Length']]\n",
    "\n",
    "df3 = pd.merge(df1, df2, on=\"user_journey\")\n",
    "\n",
    "df_1touch = df3[(df3['Length'] == 2) & (df3['Last Event'] == 'conv')]\n",
    "df_1touch = df_1touch.merge(df, how='inner', on='user_journey')\n",
    "\n",
    "df_multitouch = df3[(df3['Length'] >= 3) | ((df3['Length'] >= 2) & (df3['Last Event'] != 'conv'))]\n",
    "df_multitouch = df_multitouch.merge(df, how='inner', on='user_journey')\n",
    "\n",
    "df = df_multitouch.drop(['Length', 'Last Event', 'journey'], axis=1)\n",
    "User_Journey_list_1touch = list(df_1touch['user_journey'].unique())\n",
    "User_Journey_list = list(df_multitouch['user_journey'].unique())"
   ]
  },
  {
   "cell_type": "code",
   "execution_count": 14,
   "id": "a68275b2-44b4-41f3-8343-24073ec745d9",
   "metadata": {},
   "outputs": [],
   "source": [
    "### calculate conversions for one-touch\n",
    "\n",
    "#User_Events = []\n",
    "\n",
    "#for i in User_Journey_list_1touch:\n",
    "#    y = ['start']\n",
    "#    User_sequence = df_1touch[(df_1touch.user_journey == i)]\n",
    "    \n",
    "#    for j in User_sequence['event']:\n",
    "#        y.append(j)\n",
    "#    User_Events.append(y)\n",
    "    \n",
    "### account for single touch conversions\n",
    "\n",
    "#define counters\n",
    "#one_touch = dict()\n",
    "#for i in Unique_Events:\n",
    "#    one_touch[i] = one_touch.get(i, 0)\n",
    "    \n",
    "#loop through journeys\n",
    "#for i in User_sequence:\n",
    "#    if (i[-1] == 'conv') & (len(i) > 2):\n",
    "#        one_touch[i[1]] += 1"
   ]
  },
  {
   "cell_type": "code",
   "execution_count": null,
   "id": "78fd41a5-19f2-452f-8e58-6fc300fa559f",
   "metadata": {},
   "outputs": [],
   "source": []
  },
  {
   "cell_type": "code",
   "execution_count": 15,
   "id": "f1f00786-74cc-46a5-9506-98080f65747b",
   "metadata": {},
   "outputs": [],
   "source": [
    "### calculate conversions for multi-touch\n",
    "#create a list of lists; the primary list is broken out by journey, the secondary lists are the events each user's path\n",
    "User_Events = []\n",
    "for i in User_Journey_list:\n",
    "    y = ['start']\n",
    "    User_sequence = df[(df.user_journey == i)]\n",
    "    \n",
    "    for j in User_sequence['event']:\n",
    "        if y[-1] != j: # ~no repeat events within the same journeys~\n",
    "            y.append(j) \n",
    "    User_Events.append(y)\n",
    "\n",
    "j = []\n",
    "\n",
    "for i in User_Events:\n",
    "    if i[-1] != 'conv':\n",
    "        i.append('null')\n",
    "    j.append(i)\n",
    "\n",
    "User_Events = j"
   ]
  },
  {
   "cell_type": "code",
   "execution_count": 16,
   "id": "ced12979-7983-4e4b-8767-e3dc1204a9a0",
   "metadata": {},
   "outputs": [
    {
     "data": {
      "text/plain": [
       "'start > House Ads > Instagram > House Ads > null'"
      ]
     },
     "execution_count": 16,
     "metadata": {},
     "output_type": "execute_result"
    }
   ],
   "source": [
    "#create a list of all event-paths that each User experienced\n",
    "event_paths = []\n",
    "\n",
    "for i in User_Events:\n",
    "    for j in list(range(0,len(i)-1)):\n",
    "        event_paths.append(i[j] + ' > ' + i[j+1])\n",
    "\n",
    "Paths = []\n",
    "\n",
    "for i in User_Events:\n",
    "    journey = ' > '.join(i)\n",
    "    Paths.append(journey)\n",
    "\n",
    "Paths[0]"
   ]
  },
  {
   "cell_type": "code",
   "execution_count": 17,
   "id": "60016cf0-b48d-4523-b20f-3a07075d0a62",
   "metadata": {},
   "outputs": [
    {
     "data": {
      "text/plain": [
       "['start > House Ads > Instagram > House Ads > null',\n",
       " 'start > House Ads > Facebook > House Ads > null',\n",
       " 'start > House Ads > Push > House Ads > null',\n",
       " 'start > House Ads > Facebook > House Ads > null',\n",
       " 'start > House Ads > Push > Instagram > House Ads > null']"
      ]
     },
     "execution_count": 17,
     "metadata": {},
     "output_type": "execute_result"
    }
   ],
   "source": [
    "Paths[0:5]"
   ]
  },
  {
   "cell_type": "code",
   "execution_count": 18,
   "id": "5864c782-e8b8-4c30-a486-97809495de95",
   "metadata": {},
   "outputs": [
    {
     "name": "stdout",
     "output_type": "stream",
     "text": [
      "Requirement already satisfied: markov-model-attribution in /opt/conda/lib/python3.7/site-packages (0.42)\n",
      "Note: you may need to restart the kernel to use updated packages.\n"
     ]
    }
   ],
   "source": [
    "pip install markov-model-attribution"
   ]
  },
  {
   "cell_type": "code",
   "execution_count": 19,
   "id": "8d50f440-da24-4f85-ab7e-a626731eb406",
   "metadata": {},
   "outputs": [],
   "source": [
    "import markov_model_attribution as mma\n",
    "\n",
    "df_paths = pd.DataFrame({'Paths':Paths})\n",
    "\n",
    "markov = mma.run_model(paths=df_paths)"
   ]
  },
  {
   "cell_type": "code",
   "execution_count": 20,
   "id": "b74043dd-574c-4a17-ae20-80f1c4057414",
   "metadata": {},
   "outputs": [
    {
     "data": {
      "text/plain": [
       "{'Push': 25.51668949908809,\n",
       " 'House Ads': 75.75599095474819,\n",
       " 'Email': 18.871999989395647,\n",
       " 'Facebook': 51.33596013536976,\n",
       " 'Instagram': 64.51935942139829}"
      ]
     },
     "execution_count": 20,
     "metadata": {},
     "output_type": "execute_result"
    }
   ],
   "source": [
    "markov['markov_conversions']"
   ]
  },
  {
   "cell_type": "code",
   "execution_count": 21,
   "id": "3fab1bdb-79ad-4580-bf2e-7fa23380f006",
   "metadata": {},
   "outputs": [
    {
     "data": {
      "text/plain": [
       "Counter({'Push': 63.51668949908809,\n",
       "         'House Ads': 311.7559909547482,\n",
       "         'Email': 96.87199998939565,\n",
       "         'Facebook': 132.33596013536976,\n",
       "         'Instagram': 131.5193594213983})"
      ]
     },
     "execution_count": 21,
     "metadata": {},
     "output_type": "execute_result"
    }
   ],
   "source": [
    "markov = Counter(markov['markov_conversions']) + Counter(one_touch)\n",
    "# This outputs a dictionary containing the markov conversion count\n",
    "markov"
   ]
  },
  {
   "cell_type": "code",
   "execution_count": null,
   "id": "d5d68319-9d7f-4829-8b98-a8efd60724f5",
   "metadata": {},
   "outputs": [],
   "source": []
  },
  {
   "cell_type": "code",
   "execution_count": 22,
   "id": "b3de4849-5868-4266-b9c6-d82399d3db56",
   "metadata": {},
   "outputs": [
    {
     "data": {
      "text/html": [
       "<div>\n",
       "<style scoped>\n",
       "    .dataframe tbody tr th:only-of-type {\n",
       "        vertical-align: middle;\n",
       "    }\n",
       "\n",
       "    .dataframe tbody tr th {\n",
       "        vertical-align: top;\n",
       "    }\n",
       "\n",
       "    .dataframe thead th {\n",
       "        text-align: right;\n",
       "    }\n",
       "</style>\n",
       "<table border=\"1\" class=\"dataframe\">\n",
       "  <thead>\n",
       "    <tr style=\"text-align: right;\">\n",
       "      <th></th>\n",
       "      <th>user_journey</th>\n",
       "      <th>user_id</th>\n",
       "      <th>date</th>\n",
       "      <th>event</th>\n",
       "      <th>Journey Number</th>\n",
       "      <th>User-Journey</th>\n",
       "      <th>Row</th>\n",
       "    </tr>\n",
       "  </thead>\n",
       "  <tbody>\n",
       "    <tr>\n",
       "      <th>0</th>\n",
       "      <td>1000|0</td>\n",
       "      <td>1000</td>\n",
       "      <td>2018-01-04</td>\n",
       "      <td>House Ads</td>\n",
       "      <td>1</td>\n",
       "      <td>a100001001-1</td>\n",
       "      <td>1</td>\n",
       "    </tr>\n",
       "    <tr>\n",
       "      <th>1</th>\n",
       "      <td>1000|0</td>\n",
       "      <td>1000</td>\n",
       "      <td>2018-01-08</td>\n",
       "      <td>Instagram</td>\n",
       "      <td>1</td>\n",
       "      <td>a100001001-1</td>\n",
       "      <td>2</td>\n",
       "    </tr>\n",
       "    <tr>\n",
       "      <th>2</th>\n",
       "      <td>1000|0</td>\n",
       "      <td>1000</td>\n",
       "      <td>2018-01-13</td>\n",
       "      <td>House Ads</td>\n",
       "      <td>1</td>\n",
       "      <td>a100001001-1</td>\n",
       "      <td>3</td>\n",
       "    </tr>\n",
       "    <tr>\n",
       "      <th>3</th>\n",
       "      <td>1000|0</td>\n",
       "      <td>1000</td>\n",
       "      <td>2018-01-14</td>\n",
       "      <td>House Ads</td>\n",
       "      <td>1</td>\n",
       "      <td>a100001001-1</td>\n",
       "      <td>4</td>\n",
       "    </tr>\n",
       "    <tr>\n",
       "      <th>4</th>\n",
       "      <td>1001|0</td>\n",
       "      <td>1001</td>\n",
       "      <td>2018-01-05</td>\n",
       "      <td>House Ads</td>\n",
       "      <td>1</td>\n",
       "      <td>a100001002-1</td>\n",
       "      <td>1</td>\n",
       "    </tr>\n",
       "    <tr>\n",
       "      <th>...</th>\n",
       "      <td>...</td>\n",
       "      <td>...</td>\n",
       "      <td>...</td>\n",
       "      <td>...</td>\n",
       "      <td>...</td>\n",
       "      <td>...</td>\n",
       "      <td>...</td>\n",
       "    </tr>\n",
       "    <tr>\n",
       "      <th>4502</th>\n",
       "      <td>999|0</td>\n",
       "      <td>999</td>\n",
       "      <td>2018-01-13</td>\n",
       "      <td>House Ads</td>\n",
       "      <td>1</td>\n",
       "      <td>a100001000-1</td>\n",
       "      <td>3</td>\n",
       "    </tr>\n",
       "    <tr>\n",
       "      <th>4503</th>\n",
       "      <td>999|0</td>\n",
       "      <td>999</td>\n",
       "      <td>2018-01-14</td>\n",
       "      <td>House Ads</td>\n",
       "      <td>1</td>\n",
       "      <td>a100001000-1</td>\n",
       "      <td>4</td>\n",
       "    </tr>\n",
       "    <tr>\n",
       "      <th>4504</th>\n",
       "      <td>99|0</td>\n",
       "      <td>99</td>\n",
       "      <td>2018-01-04</td>\n",
       "      <td>House Ads</td>\n",
       "      <td>1</td>\n",
       "      <td>a100000100-1</td>\n",
       "      <td>1</td>\n",
       "    </tr>\n",
       "    <tr>\n",
       "      <th>4505</th>\n",
       "      <td>99|0</td>\n",
       "      <td>99</td>\n",
       "      <td>2018-01-05</td>\n",
       "      <td>House Ads</td>\n",
       "      <td>1</td>\n",
       "      <td>a100000100-1</td>\n",
       "      <td>2</td>\n",
       "    </tr>\n",
       "    <tr>\n",
       "      <th>4506</th>\n",
       "      <td>99|0</td>\n",
       "      <td>99</td>\n",
       "      <td>2018-01-05</td>\n",
       "      <td>conv</td>\n",
       "      <td>1</td>\n",
       "      <td>a100000100-1</td>\n",
       "      <td>3</td>\n",
       "    </tr>\n",
       "  </tbody>\n",
       "</table>\n",
       "<p>4507 rows × 7 columns</p>\n",
       "</div>"
      ],
      "text/plain": [
       "     user_journey  user_id        date      event  Journey Number  \\\n",
       "0          1000|0     1000  2018-01-04  House Ads               1   \n",
       "1          1000|0     1000  2018-01-08  Instagram               1   \n",
       "2          1000|0     1000  2018-01-13  House Ads               1   \n",
       "3          1000|0     1000  2018-01-14  House Ads               1   \n",
       "4          1001|0     1001  2018-01-05  House Ads               1   \n",
       "...           ...      ...         ...        ...             ...   \n",
       "4502        999|0      999  2018-01-13  House Ads               1   \n",
       "4503        999|0      999  2018-01-14  House Ads               1   \n",
       "4504         99|0       99  2018-01-04  House Ads               1   \n",
       "4505         99|0       99  2018-01-05  House Ads               1   \n",
       "4506         99|0       99  2018-01-05       conv               1   \n",
       "\n",
       "      User-Journey  Row  \n",
       "0     a100001001-1    1  \n",
       "1     a100001001-1    2  \n",
       "2     a100001001-1    3  \n",
       "3     a100001001-1    4  \n",
       "4     a100001002-1    1  \n",
       "...            ...  ...  \n",
       "4502  a100001000-1    3  \n",
       "4503  a100001000-1    4  \n",
       "4504  a100000100-1    1  \n",
       "4505  a100000100-1    2  \n",
       "4506  a100000100-1    3  \n",
       "\n",
       "[4507 rows x 7 columns]"
      ]
     },
     "execution_count": 22,
     "metadata": {},
     "output_type": "execute_result"
    }
   ],
   "source": [
    "df"
   ]
  },
  {
   "cell_type": "code",
   "execution_count": 23,
   "id": "9916a6a7-13e4-4f83-87e4-b5d10928112f",
   "metadata": {},
   "outputs": [],
   "source": [
    "### Shapley Value Model\n",
    "import itertools\n",
    "from collections import defaultdict\n",
    "from itertools import permutations,combinations\n",
    "\n",
    "df = df_raw\n",
    "\n",
    "df['converted'] = np.where(df['event'] == 'conv', 1, 0)\n",
    "data = df.rename(columns={\"event\": \"marketing_channel\", \"npijourney\": \"user_id\", \"date\": \"date_served\"})"
   ]
  },
  {
   "cell_type": "code",
   "execution_count": null,
   "id": "0866e5a7-96c9-4fe7-b361-aa3d7b246e26",
   "metadata": {},
   "outputs": [],
   "source": []
  },
  {
   "cell_type": "code",
   "execution_count": 24,
   "id": "a90b94fd-92a8-4d2f-84a1-5a4040a0b893",
   "metadata": {},
   "outputs": [],
   "source": [
    "### dropping null values\n",
    "data.dropna(axis=0, inplace=True)\n",
    "\n",
    "### converting date_served into date format\n",
    "data['date_served'] = pd.to_datetime(data['date_served'], format='%y/%m/%d', errors='coerce')"
   ]
  },
  {
   "cell_type": "code",
   "execution_count": 25,
   "id": "97df9276-e1fa-4aae-8529-f9337180f5bf",
   "metadata": {},
   "outputs": [],
   "source": [
    "data = data.drop(['user_id'], axis=1)\n",
    "data = data.rename(columns={\"user_journey\":\"user_id\"})"
   ]
  },
  {
   "cell_type": "code",
   "execution_count": 26,
   "id": "b72b9cb5-c2a3-456d-9d43-82281243bfc5",
   "metadata": {},
   "outputs": [
    {
     "data": {
      "text/html": [
       "<div>\n",
       "<style scoped>\n",
       "    .dataframe tbody tr th:only-of-type {\n",
       "        vertical-align: middle;\n",
       "    }\n",
       "\n",
       "    .dataframe tbody tr th {\n",
       "        vertical-align: top;\n",
       "    }\n",
       "\n",
       "    .dataframe thead th {\n",
       "        text-align: right;\n",
       "    }\n",
       "</style>\n",
       "<table border=\"1\" class=\"dataframe\">\n",
       "  <thead>\n",
       "    <tr style=\"text-align: right;\">\n",
       "      <th></th>\n",
       "      <th>date_served</th>\n",
       "      <th>marketing_channel</th>\n",
       "      <th>Journey Number</th>\n",
       "      <th>User-Journey</th>\n",
       "      <th>Row</th>\n",
       "      <th>journey</th>\n",
       "      <th>user_id</th>\n",
       "      <th>converted</th>\n",
       "    </tr>\n",
       "  </thead>\n",
       "  <tbody>\n",
       "    <tr>\n",
       "      <th>0</th>\n",
       "      <td>NaT</td>\n",
       "      <td>Facebook</td>\n",
       "      <td>1</td>\n",
       "      <td>a100000001-1</td>\n",
       "      <td>1</td>\n",
       "      <td>0</td>\n",
       "      <td>0|0</td>\n",
       "      <td>0</td>\n",
       "    </tr>\n",
       "    <tr>\n",
       "      <th>1</th>\n",
       "      <td>NaT</td>\n",
       "      <td>Instagram</td>\n",
       "      <td>1</td>\n",
       "      <td>a100000002-1</td>\n",
       "      <td>1</td>\n",
       "      <td>0</td>\n",
       "      <td>1|0</td>\n",
       "      <td>0</td>\n",
       "    </tr>\n",
       "    <tr>\n",
       "      <th>2</th>\n",
       "      <td>NaT</td>\n",
       "      <td>Instagram</td>\n",
       "      <td>1</td>\n",
       "      <td>a100000003-1</td>\n",
       "      <td>1</td>\n",
       "      <td>0</td>\n",
       "      <td>2|0</td>\n",
       "      <td>0</td>\n",
       "    </tr>\n",
       "    <tr>\n",
       "      <th>3</th>\n",
       "      <td>NaT</td>\n",
       "      <td>House Ads</td>\n",
       "      <td>1</td>\n",
       "      <td>a100000004-1</td>\n",
       "      <td>1</td>\n",
       "      <td>0</td>\n",
       "      <td>3|0</td>\n",
       "      <td>0</td>\n",
       "    </tr>\n",
       "    <tr>\n",
       "      <th>4</th>\n",
       "      <td>NaT</td>\n",
       "      <td>Facebook</td>\n",
       "      <td>1</td>\n",
       "      <td>a100000005-1</td>\n",
       "      <td>1</td>\n",
       "      <td>0</td>\n",
       "      <td>4|0</td>\n",
       "      <td>0</td>\n",
       "    </tr>\n",
       "    <tr>\n",
       "      <th>...</th>\n",
       "      <td>...</td>\n",
       "      <td>...</td>\n",
       "      <td>...</td>\n",
       "      <td>...</td>\n",
       "      <td>...</td>\n",
       "      <td>...</td>\n",
       "      <td>...</td>\n",
       "      <td>...</td>\n",
       "    </tr>\n",
       "    <tr>\n",
       "      <th>10891</th>\n",
       "      <td>NaT</td>\n",
       "      <td>conv</td>\n",
       "      <td>1</td>\n",
       "      <td>a100007292-1</td>\n",
       "      <td>2</td>\n",
       "      <td>0</td>\n",
       "      <td>7291|0</td>\n",
       "      <td>1</td>\n",
       "    </tr>\n",
       "    <tr>\n",
       "      <th>10892</th>\n",
       "      <td>NaT</td>\n",
       "      <td>Email</td>\n",
       "      <td>1</td>\n",
       "      <td>a100007293-1</td>\n",
       "      <td>1</td>\n",
       "      <td>0</td>\n",
       "      <td>7292|0</td>\n",
       "      <td>0</td>\n",
       "    </tr>\n",
       "    <tr>\n",
       "      <th>10893</th>\n",
       "      <td>NaT</td>\n",
       "      <td>conv</td>\n",
       "      <td>1</td>\n",
       "      <td>a100007293-1</td>\n",
       "      <td>2</td>\n",
       "      <td>0</td>\n",
       "      <td>7292|0</td>\n",
       "      <td>1</td>\n",
       "    </tr>\n",
       "    <tr>\n",
       "      <th>10894</th>\n",
       "      <td>NaT</td>\n",
       "      <td>Facebook</td>\n",
       "      <td>1</td>\n",
       "      <td>a100007294-1</td>\n",
       "      <td>1</td>\n",
       "      <td>0</td>\n",
       "      <td>7293|0</td>\n",
       "      <td>0</td>\n",
       "    </tr>\n",
       "    <tr>\n",
       "      <th>10895</th>\n",
       "      <td>NaT</td>\n",
       "      <td>conv</td>\n",
       "      <td>1</td>\n",
       "      <td>a100007294-1</td>\n",
       "      <td>2</td>\n",
       "      <td>0</td>\n",
       "      <td>7293|0</td>\n",
       "      <td>1</td>\n",
       "    </tr>\n",
       "  </tbody>\n",
       "</table>\n",
       "<p>10896 rows × 8 columns</p>\n",
       "</div>"
      ],
      "text/plain": [
       "      date_served marketing_channel  Journey Number  User-Journey  Row  \\\n",
       "0             NaT          Facebook               1  a100000001-1    1   \n",
       "1             NaT         Instagram               1  a100000002-1    1   \n",
       "2             NaT         Instagram               1  a100000003-1    1   \n",
       "3             NaT         House Ads               1  a100000004-1    1   \n",
       "4             NaT          Facebook               1  a100000005-1    1   \n",
       "...           ...               ...             ...           ...  ...   \n",
       "10891         NaT              conv               1  a100007292-1    2   \n",
       "10892         NaT             Email               1  a100007293-1    1   \n",
       "10893         NaT              conv               1  a100007293-1    2   \n",
       "10894         NaT          Facebook               1  a100007294-1    1   \n",
       "10895         NaT              conv               1  a100007294-1    2   \n",
       "\n",
       "       journey user_id  converted  \n",
       "0            0     0|0          0  \n",
       "1            0     1|0          0  \n",
       "2            0     2|0          0  \n",
       "3            0     3|0          0  \n",
       "4            0     4|0          0  \n",
       "...        ...     ...        ...  \n",
       "10891        0  7291|0          1  \n",
       "10892        0  7292|0          0  \n",
       "10893        0  7292|0          1  \n",
       "10894        0  7293|0          0  \n",
       "10895        0  7293|0          1  \n",
       "\n",
       "[10896 rows x 8 columns]"
      ]
     },
     "execution_count": 26,
     "metadata": {},
     "output_type": "execute_result"
    }
   ],
   "source": [
    "data"
   ]
  },
  {
   "cell_type": "code",
   "execution_count": 27,
   "id": "b96f64fc-ad4d-4660-b46b-7e0dd60e9a38",
   "metadata": {},
   "outputs": [],
   "source": [
    "### create a channel mix conversion table \n",
    "# first level - sort\n",
    "data_lvl1 = data[['user_id', 'marketing_channel', 'converted']].sort_values(by=['user_id', 'marketing_channel'])\n",
    "\n",
    "# second level - groupby userid, concat distinct marketing channel and label if any conversion took place with this channel mix\n",
    "data_lvl2 = data_lvl1.groupby(['user_id'], as_index=False).agg({'marketing_channel': lambda x: ','.join(map(str,x.unique())),'converted':max})\n",
    "data_lvl2.rename(columns={'marketing_channel':'marketing_channel_subset'}, inplace=True)\n",
    "\n",
    "# third level - summing up the conversion which took place for each channel mix\n",
    "data_lvl3 = data_lvl2.groupby(['marketing_channel_subset'], as_index=False).agg(sum)"
   ]
  },
  {
   "cell_type": "code",
   "execution_count": null,
   "id": "207d3519-1d6d-4398-8d80-5c00cccc6f41",
   "metadata": {},
   "outputs": [],
   "source": []
  },
  {
   "cell_type": "code",
   "execution_count": 28,
   "id": "be95c89a-428c-4d81-a26b-54665f009982",
   "metadata": {},
   "outputs": [],
   "source": [
    "#### setting up the formulas for shapley value\n",
    "###############################################################################################\n",
    "\n",
    "### return all possible combination of the channel\n",
    "def power_set(List):\n",
    "    PS = [list(j) for i in range(len(List)) for j in itertools.combinations(List, i+1)]\n",
    "    return PS\n",
    "  \n",
    "###############################################################################################\n",
    "\n",
    "### calculating the factorial of a number\n",
    "def factorial(n):\n",
    "    if n == 0:\n",
    "        return 1\n",
    "    else:\n",
    "        return n * factorial(n-1)\n",
    "       \n",
    "###############################################################################################\n",
    "\n",
    "### compute the worth of each coalition\n",
    "def v_function(A,C_values):\n",
    "    subsets_of_A = subsets(A)\n",
    "    worth_of_A=0\n",
    "    for subset in subsets_of_A:\n",
    "        if subset in C_values:\n",
    "            worth_of_A += C_values[subset]\n",
    "    return worth_of_A\n",
    "      \n",
    "###############################################################################################\n",
    "\n",
    "def subsets(s):\n",
    "    if len(s)==1:\n",
    "        return s\n",
    "    else:\n",
    "        sub_channels=[]\n",
    "        for i in range(1,len(s)+1):\n",
    "            sub_channels.extend(map(list,itertools.combinations(s, i)))\n",
    "    return list(map(\",\".join,map(sorted,sub_channels)))\n",
    "  \n",
    "###############################################################################################\n",
    "\n",
    "def calculate_shapley(df, channel_name, conv_name):\n",
    "    c_values = df.set_index(channel_name).to_dict()[conv_name]\n",
    "    df['channels'] = df[channel_name].apply(lambda x: x if len(x.split(\",\")) == 1 else np.nan)\n",
    "    channels = list(df['channels'].dropna().unique())\n",
    "    \n",
    "    v_values = {}\n",
    "    for A in power_set(channels):\n",
    "        v_values[','.join(sorted(A))] = v_function(A,c_values)\n",
    "    n=len(channels)\n",
    "    shapley_values = defaultdict(int)\n",
    "\n",
    "    for channel in channels:\n",
    "        for A in v_values.keys():\n",
    "            if channel not in A.split(\",\"):\n",
    "                cardinal_A=len(A.split(\",\"))\n",
    "                A_with_channel = A.split(\",\")\n",
    "                A_with_channel.append(channel)            \n",
    "                A_with_channel=\",\".join(sorted(A_with_channel))\n",
    "                weight = (factorial(cardinal_A)*factorial(n-cardinal_A-1)/factorial(n))\n",
    "                contrib = (v_values[A_with_channel]-v_values[A])\n",
    "                shapley_values[channel] += weight * contrib\n",
    "        shapley_values[channel]+= v_values[channel]/n \n",
    "        \n",
    "    return shapley_values"
   ]
  },
  {
   "cell_type": "code",
   "execution_count": 29,
   "id": "6ee0ac58-c610-4418-a4b1-8cccdb8a4f58",
   "metadata": {},
   "outputs": [
    {
     "data": {
      "text/plain": [
       "defaultdict(int,\n",
       "            {'Email': 45.5,\n",
       "             'Facebook': 71.25,\n",
       "             'House Ads': 179.75,\n",
       "             'Instagram': 69.16666666666666,\n",
       "             'Push': 32.25,\n",
       "             'conv': 642.0833333333333})"
      ]
     },
     "execution_count": 29,
     "metadata": {},
     "output_type": "execute_result"
    }
   ],
   "source": [
    "shapley_attribution = calculate_shapley(data_lvl3, 'marketing_channel_subset', 'converted')\n",
    "shapley_attribution"
   ]
  },
  {
   "cell_type": "code",
   "execution_count": 30,
   "id": "4c6d79e0-fa35-4f05-a4e5-90ee8b935d58",
   "metadata": {},
   "outputs": [
    {
     "data": {
      "text/plain": [
       "1040.0"
      ]
     },
     "execution_count": 30,
     "metadata": {},
     "output_type": "execute_result"
    }
   ],
   "source": [
    "sum(shapley_attribution.values())"
   ]
  },
  {
   "cell_type": "code",
   "execution_count": null,
   "id": "8454b8f4-422f-4ce8-9e33-5a60f39e9d8a",
   "metadata": {},
   "outputs": [],
   "source": []
  },
  {
   "cell_type": "code",
   "execution_count": null,
   "id": "d9a61013-d860-4c4b-8cd8-db637a6a67a7",
   "metadata": {},
   "outputs": [],
   "source": []
  },
  {
   "cell_type": "code",
   "execution_count": null,
   "id": "62027671-466d-4620-8487-758ceeaf997c",
   "metadata": {},
   "outputs": [],
   "source": []
  }
 ],
 "metadata": {
  "environment": {
   "kernel": "python3",
   "name": "r-cpu.4-1.m84",
   "type": "gcloud",
   "uri": "gcr.io/deeplearning-platform-release/r-cpu.4-1:m84"
  },
  "kernelspec": {
   "display_name": "Python 3",
   "language": "python",
   "name": "python3"
  },
  "language_info": {
   "codemirror_mode": {
    "name": "ipython",
    "version": 3
   },
   "file_extension": ".py",
   "mimetype": "text/x-python",
   "name": "python",
   "nbconvert_exporter": "python",
   "pygments_lexer": "ipython3",
   "version": "3.7.12"
  }
 },
 "nbformat": 4,
 "nbformat_minor": 5
}
